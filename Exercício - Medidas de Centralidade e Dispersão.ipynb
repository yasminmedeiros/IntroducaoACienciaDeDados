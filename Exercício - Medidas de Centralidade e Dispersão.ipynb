{
 "cells": [
  {
   "cell_type": "markdown",
   "metadata": {},
   "source": [
    "# Introdução à Ciência de Dados - UFPB\n",
    "Professor: Yuri Malheiros\n",
    "\n",
    "## Medidas de Centralidade e Dispersão"
   ]
  },
  {
   "cell_type": "markdown",
   "metadata": {},
   "source": [
    "A partir do dataset `movies.csv` calcule a média, mediana e desvio padrão para as colunas:"
   ]
  },
  {
   "cell_type": "code",
   "execution_count": 29,
   "metadata": {},
   "outputs": [],
   "source": [
    "import pandas as pd\n",
    "movies = pd.read_csv('movies.csv', sep = ',')\n",
    "def printMedidas(coluna):\n",
    "    #arr = [x for x in coluna if pd.isna(x) == 0]\n",
    "    print('\\n Média: ',coluna.mean().round(2))\n",
    "    print('\\n Mediana: ',coluna.median().round(2))\n",
    "    print('\\n Desvio Padrão: ',coluna.std().round(2))"
   ]
  },
  {
   "cell_type": "markdown",
   "metadata": {},
   "source": [
    "### US Gross"
   ]
  },
  {
   "cell_type": "code",
   "execution_count": 30,
   "metadata": {},
   "outputs": [
    {
     "name": "stdout",
     "output_type": "stream",
     "text": [
      "\n",
      " Média:  44002085.16\n",
      "\n",
      " Mediana:  22019465.5\n",
      "\n",
      " Desvio Padrão:  62555311.39\n"
     ]
    }
   ],
   "source": [
    "printMedidas(movies['US Gross'])\n",
    "    "
   ]
  },
  {
   "cell_type": "markdown",
   "metadata": {},
   "source": [
    "### Production Budget"
   ]
  },
  {
   "cell_type": "code",
   "execution_count": 31,
   "metadata": {},
   "outputs": [
    {
     "name": "stdout",
     "output_type": "stream",
     "text": [
      "\n",
      " Média:  31069171.45\n",
      "\n",
      " Mediana:  20000000.0\n",
      "\n",
      " Desvio Padrão:  35585913.44\n"
     ]
    }
   ],
   "source": [
    "printMedidas(movies['Production Budget'])"
   ]
  },
  {
   "cell_type": "markdown",
   "metadata": {},
   "source": [
    "### Running Time"
   ]
  },
  {
   "cell_type": "code",
   "execution_count": 32,
   "metadata": {},
   "outputs": [
    {
     "data": {
      "text/plain": [
       "Index(['Title', 'US Gross', 'Worldwide Gross', 'US DVD Sales',\n",
       "       'Production Budget', 'Release Date', 'MPAA Rating',\n",
       "       'Running Time (min)', 'Distributor', 'Source', 'Major Genre',\n",
       "       'Creative Type', 'Director', 'Rotten Tomatoes Rating', 'IMDB Rating',\n",
       "       'IMDB Votes'],\n",
       "      dtype='object')"
      ]
     },
     "execution_count": 32,
     "metadata": {},
     "output_type": "execute_result"
    }
   ],
   "source": [
    "movies.columns"
   ]
  },
  {
   "cell_type": "code",
   "execution_count": 33,
   "metadata": {},
   "outputs": [
    {
     "name": "stdout",
     "output_type": "stream",
     "text": [
      "\n",
      " Média:  110.19\n",
      "\n",
      " Mediana:  107.0\n",
      "\n",
      " Desvio Padrão:  20.17\n"
     ]
    }
   ],
   "source": [
    "printMedidas(movies['Running Time (min)'])"
   ]
  },
  {
   "cell_type": "markdown",
   "metadata": {},
   "source": [
    "### IMDB Rating"
   ]
  },
  {
   "cell_type": "code",
   "execution_count": 34,
   "metadata": {},
   "outputs": [
    {
     "name": "stdout",
     "output_type": "stream",
     "text": [
      "\n",
      " Média:  6.28\n",
      "\n",
      " Mediana:  6.4\n",
      "\n",
      " Desvio Padrão:  1.25\n"
     ]
    }
   ],
   "source": [
    "printMedidas(movies['IMDB Rating'])"
   ]
  },
  {
   "cell_type": "markdown",
   "metadata": {},
   "source": [
    "### IMDB Votes"
   ]
  },
  {
   "cell_type": "code",
   "execution_count": 35,
   "metadata": {},
   "outputs": [
    {
     "name": "stdout",
     "output_type": "stream",
     "text": [
      "\n",
      " Média:  29908.64\n",
      "\n",
      " Mediana:  15106.0\n",
      "\n",
      " Desvio Padrão:  44937.58\n"
     ]
    }
   ],
   "source": [
    "printMedidas(movies['IMDB Votes'])"
   ]
  },
  {
   "cell_type": "markdown",
   "metadata": {},
   "source": [
    "### Análise dos Resultados\n",
    "\n",
    "Quais colunas tiveram valores muito diferentes entre média e mediana? Quais os seus desvios padrão?"
   ]
  },
  {
   "cell_type": "markdown",
   "metadata": {},
   "source": [
    "IMDB Votes,Production Budget,US Gross"
   ]
  },
  {
   "cell_type": "markdown",
   "metadata": {},
   "source": [
    "Que conclusões podemos tirar desses resultados?"
   ]
  },
  {
   "cell_type": "markdown",
   "metadata": {},
   "source": [
    "Quanto a variabilidade dos dados, quando há uma grande diferença entre média e mediana, sempre há um considerável desvio padrão, indicando que há uma grande variabilidade de dados. Quando não há, no caso as colunas não citadas na pergunta anterior, há desvio padrão baixo portanto baixa variabilidade quanto aos valores dos dados das colunas.\n"
   ]
  },
  {
   "cell_type": "code",
   "execution_count": null,
   "metadata": {},
   "outputs": [],
   "source": []
  }
 ],
 "metadata": {
  "kernelspec": {
   "display_name": "Python 3",
   "language": "python",
   "name": "python3"
  },
  "language_info": {
   "codemirror_mode": {
    "name": "ipython",
    "version": 3
   },
   "file_extension": ".py",
   "mimetype": "text/x-python",
   "name": "python",
   "nbconvert_exporter": "python",
   "pygments_lexer": "ipython3",
   "version": "3.8.5"
  }
 },
 "nbformat": 4,
 "nbformat_minor": 4
}
