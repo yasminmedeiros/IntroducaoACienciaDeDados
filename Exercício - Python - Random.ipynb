{
 "cells": [
  {
   "cell_type": "markdown",
   "metadata": {},
   "source": [
    "# Introdução à Ciência de Dados - UFPB\n",
    "Professor: Yuri Malheiros\n",
    "\n",
    "## Python - Random - Exercício"
   ]
  },
  {
   "cell_type": "markdown",
   "metadata": {},
   "source": [
    "Implemente a função `generate_password` que deve gerar uma senha aleatória.\n",
    "\n",
    "A função tem tres parâmetros:\n",
    "\n",
    "- `n_chars` especifica o tamanho da senha gerada\n",
    "- `use_numbers` especifica se números podem ser usados na senha. Por padrão, esse parâmetro tem valor True\n",
    "- `use_special_chars` especifica se caracteres especiais, por exemplo !#%&@?, pode ser usados na senha. Por padrão, esse parâmetro tem valor True\n",
    "\n",
    "Note que se `use_numbers` e `use_special_chars` tiverem valor False, a senha terá apenas letras maiúsculas ou minúsculas."
   ]
  },
  {
   "cell_type": "code",
   "execution_count": 9,
   "metadata": {},
   "outputs": [],
   "source": [
    "import string\n",
    "import random\n",
    "\n",
    "def generate_password(n_chars, use_numbers=True, use_special_chars=True):\n",
    "    chars='abcdefghijklmnopqrstuvwxyz'\n",
    "    charsUpper = chars.upper()\n",
    "    numbers='0123456789'\n",
    "    specialChars='!#%&@?'\n",
    "    \n",
    "    chars = list(chars) + list(charsUpper)\n",
    "    numbers = list(numbers)\n",
    "    specialChars = list(specialChars)\n",
    "    \n",
    "    arrayTotal = []\n",
    "    \n",
    "    if use_numbers == True:\n",
    "        if use_special_chars ==True:\n",
    "            \n",
    "            for x in range(n_chars):\n",
    "                arrayTotal.append(random.choice(chars+numbers+specialChars))\n",
    "            \n",
    "        else:\n",
    "            for x in range(n_chars):\n",
    "                arrayTotal.append(random.choice(chars+numbers))\n",
    "        \n",
    "    else:\n",
    "        if use_special_chars ==True:\n",
    "            for x in range(n_chars):\n",
    "                arrayTotal.append(random.choice(chars+specialChars))\n",
    "        else:\n",
    "            for x in range(n_chars):\n",
    "                arrayTotal.append(random.choice(chars))\n",
    "    return arrayTotal"
   ]
  },
  {
   "cell_type": "code",
   "execution_count": 10,
   "metadata": {},
   "outputs": [
    {
     "name": "stdout",
     "output_type": "stream",
     "text": [
      "['h', 'a', 'J', 'i', 'f', 'h', 'C', 'x', 'r', 'I']\n",
      "['G', '?', 'E', 'O', 'B', 'x', 'R', 'V', 'U', 'n']\n",
      "['E', 'T', 'u', 'o', 's', 'z', 'Q', 'X', 'q', 'o']\n"
     ]
    }
   ],
   "source": [
    "print(generate_password(10))\n",
    "print(generate_password(10, use_numbers=False))\n",
    "print(generate_password(10, use_numbers=False, use_special_chars=False))"
   ]
  }
 ],
 "metadata": {
  "kernelspec": {
   "display_name": "Python 3",
   "language": "python",
   "name": "python3"
  },
  "language_info": {
   "codemirror_mode": {
    "name": "ipython",
    "version": 3
   },
   "file_extension": ".py",
   "mimetype": "text/x-python",
   "name": "python",
   "nbconvert_exporter": "python",
   "pygments_lexer": "ipython3",
   "version": "3.8.2"
  }
 },
 "nbformat": 4,
 "nbformat_minor": 4
}
