{
 "cells": [
  {
   "cell_type": "markdown",
   "metadata": {},
   "source": [
    "# Introdução à Ciência de Dados - UFPB\n",
    "Professor: Yuri Malheiros\n",
    "\n",
    "## Pandas"
   ]
  },
  {
   "cell_type": "markdown",
   "metadata": {},
   "source": [
    "A partir do dataset `movies.csv` utilize o Pandas para responder as seguintes perguntas:"
   ]
  },
  {
   "cell_type": "code",
   "execution_count": 12,
   "metadata": {},
   "outputs": [
    {
     "data": {
      "text/plain": [
       "Index(['Title', 'US Gross', 'Worldwide Gross', 'US DVD Sales',\n",
       "       'Production Budget', 'Release Date', 'MPAA Rating',\n",
       "       'Running Time (min)', 'Distributor', 'Source', 'Major Genre',\n",
       "       'Creative Type', 'Director', 'Rotten Tomatoes Rating', 'IMDB Rating',\n",
       "       'IMDB Votes'],\n",
       "      dtype='object')"
      ]
     },
     "execution_count": 12,
     "metadata": {},
     "output_type": "execute_result"
    }
   ],
   "source": [
    "import pandas as pd\n",
    "\n",
    "movies = pd.read_csv(\"movies.csv\",sep=',')\n",
    "movies.columnsmns"
   ]
  },
  {
   "cell_type": "markdown",
   "metadata": {},
   "source": [
    "### Qual o gênero de filme mais lucrativo em todo o mundo?"
   ]
  },
  {
   "cell_type": "code",
   "execution_count": 9,
   "metadata": {},
   "outputs": [
    {
     "data": {
      "text/plain": [
       "'Drama'"
      ]
     },
     "execution_count": 9,
     "metadata": {},
     "output_type": "execute_result"
    }
   ],
   "source": [
    "from nltk import FreqDist\n",
    "import numpy as np\n",
    "freq = FreqDist([x for x in movies['Major Genre'] if type(x) == np.str])\n",
    "freq.most_common(1)[0][0]"
   ]
  },
  {
   "cell_type": "markdown",
   "metadata": {},
   "source": [
    "### Qual o diretor dirigiu mais filmes?"
   ]
  },
  {
   "cell_type": "code",
   "execution_count": 10,
   "metadata": {},
   "outputs": [
    {
     "data": {
      "text/plain": [
       "'Steven Spielberg'"
      ]
     },
     "execution_count": 10,
     "metadata": {},
     "output_type": "execute_result"
    }
   ],
   "source": [
    "from nltk import FreqDist\n",
    "import numpy as np\n",
    "freq = FreqDist([x for x in movies['Director'] if type(x) == np.str])\n",
    "freq.most_common(1)[0][0]"
   ]
  },
  {
   "cell_type": "markdown",
   "metadata": {},
   "source": [
    "### Quais filmes tiverem os maiores arrecadações (Gross) em relação ao orçamento de produção (Budget)?"
   ]
  },
  {
   "cell_type": "code",
   "execution_count": 22,
   "metadata": {},
   "outputs": [
    {
     "name": "stdout",
     "output_type": "stream",
     "text": [
      "['The Alamo', 'The Calling', 'The Land Girls', 'First Love, Last Rites', 'I Married a Strange Person', 'Pirates', 'Wilson', 'Darling Lili', '12 Angry Men', '1776']\n"
     ]
    }
   ],
   "source": [
    "from nltk import FreqDist\n",
    "import numpy as np\n",
    "arr = []\n",
    "for x in range(len(movies)):\n",
    "    if(pd.isna(movies.loc[x,'Production Budget']) == 0 and pd.isna(movies.loc[x,'Worldwide Gross'])==0):\n",
    "        if(movies.loc[x,'Production Budget'] > movies.loc[x,'Worldwide Gross'] ):\n",
    "            arr.append(movies.loc[x,'Title'])\n",
    "freq = FreqDist(arr)\n",
    "print([x[0] for x in freq.most_common(10)])"
   ]
  },
  {
   "cell_type": "code",
   "execution_count": null,
   "metadata": {},
   "outputs": [],
   "source": []
  }
 ],
 "metadata": {
  "kernelspec": {
   "display_name": "Python 3",
   "language": "python",
   "name": "python3"
  },
  "language_info": {
   "codemirror_mode": {
    "name": "ipython",
    "version": 3
   },
   "file_extension": ".py",
   "mimetype": "text/x-python",
   "name": "python",
   "nbconvert_exporter": "python",
   "pygments_lexer": "ipython3",
   "version": "3.8.5"
  }
 },
 "nbformat": 4,
 "nbformat_minor": 4
}
